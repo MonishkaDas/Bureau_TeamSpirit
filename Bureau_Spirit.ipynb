{
 "cells": [
  {
   "cell_type": "code",
   "execution_count": 4,
   "metadata": {
    "id": "7l85OfrXuqYy"
   },
   "outputs": [],
   "source": [
    "import pandas as pd\n",
    "import numpy as np\n",
    "import plotly.express as px\n",
    "from sklearn.preprocessing import StandardScaler\n",
    "from sklearn.preprocessing import LabelEncoder\n",
    "from datetime import timedelta\n",
    "import sklearn\n",
    "from datetime import datetime\n",
    "\n",
    "from sklearn.metrics import confusion_matrix\n"
   ]
  },
  {
   "cell_type": "code",
   "execution_count": 7,
   "metadata": {
    "id": "i2b4RIEehQia"
   },
   "outputs": [],
   "source": [
    "file_path = r'/MOCK_DATA.csv'\n",
    "df = pd.read_csv('MOCK_DATA.csv')"
   ]
  },
  {
   "cell_type": "code",
   "execution_count": 8,
   "metadata": {
    "colab": {
     "base_uri": "https://localhost:8080/",
     "height": 206
    },
    "id": "KZPIEBWA9Cwb",
    "outputId": "8b0df7d2-771e-4566-8c0b-746775ebb945"
   },
   "outputs": [
    {
     "data": {
      "text/html": [
       "<div>\n",
       "<style scoped>\n",
       "    .dataframe tbody tr th:only-of-type {\n",
       "        vertical-align: middle;\n",
       "    }\n",
       "\n",
       "    .dataframe tbody tr th {\n",
       "        vertical-align: top;\n",
       "    }\n",
       "\n",
       "    .dataframe thead th {\n",
       "        text-align: right;\n",
       "    }\n",
       "</style>\n",
       "<table border=\"1\" class=\"dataframe\">\n",
       "  <thead>\n",
       "    <tr style=\"text-align: right;\">\n",
       "      <th></th>\n",
       "      <th>transactionAmount</th>\n",
       "      <th>dateTimeTransaction</th>\n",
       "      <th>merchantCategoryCode</th>\n",
       "    </tr>\n",
       "  </thead>\n",
       "  <tbody>\n",
       "    <tr>\n",
       "      <th>0</th>\n",
       "      <td>4233.17</td>\n",
       "      <td>2023-04-06 03:50:20</td>\n",
       "      <td>9565</td>\n",
       "    </tr>\n",
       "    <tr>\n",
       "      <th>1</th>\n",
       "      <td>84000.99</td>\n",
       "      <td>2023-04-06 07:31:44</td>\n",
       "      <td>8803</td>\n",
       "    </tr>\n",
       "    <tr>\n",
       "      <th>2</th>\n",
       "      <td>1830.85</td>\n",
       "      <td>2023-04-06 16:17:19</td>\n",
       "      <td>9550</td>\n",
       "    </tr>\n",
       "    <tr>\n",
       "      <th>3</th>\n",
       "      <td>20373.17</td>\n",
       "      <td>2023-04-06 17:36:38</td>\n",
       "      <td>8663</td>\n",
       "    </tr>\n",
       "    <tr>\n",
       "      <th>4</th>\n",
       "      <td>26975.61</td>\n",
       "      <td>2023-04-07 00:28:34</td>\n",
       "      <td>7692</td>\n",
       "    </tr>\n",
       "  </tbody>\n",
       "</table>\n",
       "</div>"
      ],
      "text/plain": [
       "   transactionAmount dateTimeTransaction  merchantCategoryCode\n",
       "0            4233.17 2023-04-06 03:50:20                  9565\n",
       "1           84000.99 2023-04-06 07:31:44                  8803\n",
       "2            1830.85 2023-04-06 16:17:19                  9550\n",
       "3           20373.17 2023-04-06 17:36:38                  8663\n",
       "4           26975.61 2023-04-07 00:28:34                  7692"
      ]
     },
     "execution_count": 8,
     "metadata": {},
     "output_type": "execute_result"
    }
   ],
   "source": [
    "df[\"dateTimeTransaction\"] = pd.to_datetime(df[\"dateTimeTransaction\"], unit='s')\n",
    "df = df.sort_values(by='dateTimeTransaction')\n",
    "df = df.reset_index(drop=True)\n",
    "df=df.drop([\"acquiringInstitutionCode\", \"latitude\", \"longitude\", \"cardAcceptorId\", \"channel\", \"transactionOrigin\", \"transactionType\", \"entityId\", \"cardBalance\"], axis=1)\n",
    "df.head()"
   ]
  },
  {
   "cell_type": "code",
   "execution_count": 9,
   "metadata": {
    "id": "N_36garFR6Oq"
   },
   "outputs": [],
   "source": [
    "from sklearn.ensemble import IsolationForest\n",
    "import pandas as pd\n",
    "\n",
    "# Assuming you have a DataFrame df with columns: transactionAmount, dateTimeTransaction\n",
    "\n",
    "# Compute time difference if not already computed\n",
    "df['time_diff'] = df['dateTimeTransaction'].diff().fillna(pd.Timedelta(seconds=0))\n",
    "df['time_diff_seconds'] = df['time_diff'].dt.total_seconds()\n",
    "\n",
    "# Creating a DataFrame with relevant features\n",
    "X = df[['transactionAmount', 'time_diff_seconds']]\n",
    "\n",
    "# Initialize Isolation Forest model\n",
    "model = IsolationForest(contamination='auto', random_state=42)\n",
    "\n",
    "# Fit the model\n",
    "model.fit(X)\n",
    "\n",
    "# Predict outliers/anomalies\n",
    "outliers = model.predict(X)\n",
    "\n",
    "# Add the outlier predictions to the DataFrame\n",
    "df['is_outlier'] = outliers\n",
    "\n",
    "# 'is_outlier' column will have 1 for inliers (normal data points) and -1 for outliers (anomalies)\n",
    "# You can further analyze or filter your data based on this column\n",
    "\n",
    "\n"
   ]
  },
  {
   "cell_type": "code",
   "execution_count": 10,
   "metadata": {
    "colab": {
     "base_uri": "https://localhost:8080/"
    },
    "id": "MHebjtgqXuSo",
    "outputId": "8db21382-625d-45dd-ccf5-5b5b74f8c87e"
   },
   "outputs": [
    {
     "name": "stdout",
     "output_type": "stream",
     "text": [
      "The merchant code 9565 does not exist in the DataFrame.\n"
     ]
    }
   ],
   "source": [
    "merchant_code_to_check = \"9565\"\n",
    "if merchant_code_to_check in df['merchantCategoryCode'].values:\n",
    "    print(f\"The merchant code {merchant_code_to_check} exists in the DataFrame.\")\n",
    "else:\n",
    "    print(f\"The merchant code {merchant_code_to_check} does not exist in the DataFrame.\")\n"
   ]
  },
  {
   "cell_type": "code",
   "execution_count": null,
   "metadata": {
    "id": "g5oiSML3ZcB7"
   },
   "outputs": [],
   "source": []
  }
 ],
 "metadata": {
  "colab": {
   "provenance": []
  },
  "kernelspec": {
   "display_name": "Python 3 (ipykernel)",
   "language": "python",
   "name": "python3"
  },
  "language_info": {
   "codemirror_mode": {
    "name": "ipython",
    "version": 3
   },
   "file_extension": ".py",
   "mimetype": "text/x-python",
   "name": "python",
   "nbconvert_exporter": "python",
   "pygments_lexer": "ipython3",
   "version": "3.11.7"
  }
 },
 "nbformat": 4,
 "nbformat_minor": 4
}
