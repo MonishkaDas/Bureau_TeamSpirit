{
 "cells": [
  {
   "cell_type": "code",
   "execution_count": 29,
   "id": "44e9abdd-5c5a-4ebf-a409-0263cbbd5a6c",
   "metadata": {},
   "outputs": [],
   "source": [
    "import numpy as np\n",
    "import pandas as pd\n",
    "\n",
    "import time\n",
    "\n",
    "import warnings"
   ]
  },
  {
   "cell_type": "code",
   "execution_count": 31,
   "id": "e9848f88-a21e-434d-bd2d-52f932490f8b",
   "metadata": {},
   "outputs": [],
   "source": [
    "data = pd.read_csv('output (1).csv', index_col=False)"
   ]
  },
  {
   "cell_type": "code",
   "execution_count": 32,
   "id": "60d50ae3-5ac1-4749-b060-e8850d8e8be0",
   "metadata": {},
   "outputs": [
    {
     "name": "stdout",
     "output_type": "stream",
     "text": [
      "(1, 47)\n"
     ]
    }
   ],
   "source": [
    "print(data.shape)"
   ]
  },
  {
   "cell_type": "code",
   "execution_count": 33,
   "id": "8a285a44-c4b5-4885-93b5-67d4f23fb6d3",
   "metadata": {},
   "outputs": [],
   "source": [
    "array=data.values"
   ]
  },
  {
   "cell_type": "code",
   "execution_count": 34,
   "id": "10c666f3-fb93-45fb-b280-8896a716ed09",
   "metadata": {},
   "outputs": [
    {
     "data": {
      "text/plain": [
       "array([[100, 0, 0.0, 2412192200, 61000000, 13244, 192200, 2412, 2306,\n",
       "        911, 5969, 810, 13992, 1695, 1122033441, 8999840, 89050840,\n",
       "        'NETFLIXUS', 0.0, 'T', 840, 840, '102510800600084063368',\n",
       "        '01001324424121922000000001399200000001695', 'ECOM',\n",
       "        'Kg1WR6lwTruEPIDK0GS4w82/wrFeXTU5SjD9TfyUXmc=', 'MASTER', False,\n",
       "        1020001031, 0, 0, False, True, False, False, 'ECOM', 'ECOM',\n",
       "        False,\n",
       "        '2a0d5647a9704ebb843c80cad064b8c3cdbfc2b15e5d35394a30fd4dfc945e67',\n",
       "        False, 'EKCZSH8MA5', False, False, False, True, 28.6448,\n",
       "        77.216721]], dtype=object)"
      ]
     },
     "execution_count": 34,
     "metadata": {},
     "output_type": "execute_result"
    }
   ],
   "source": [
    "array"
   ]
  },
  {
   "cell_type": "code",
   "execution_count": 35,
   "id": "69d92cd1-97e8-4079-8a72-db251618d04b",
   "metadata": {},
   "outputs": [],
   "source": [
    "new_data=data.drop([\"mti\",\"processingCode\",\"cardholderBillingConversionRate\",\"stan\",\"expiryDate\",\"conversionDate\",\"posEntryMode\",\"forwardingInstitutionCode\",\"rrn\",\"additionalData48\",\"transactionCurrencyCode\",\n",
    "\"cardholderBillingCurrencyCode\", \"posDataCode\",\"originalDataElement\",\"encryptedPan\",\"network\",\"dcc\",\"kitNo\",\"factorOfAuthorization\",\"authenticationScore\",\"contactless\",\"international\",\n",
    "\"preValidated\",\"enhancedLimitWhiteListing\",\"encryptedHexCardNo\",\"isTokenized\",\"moneySendTxn\",\"mcRefundTxn\",\"mpqrtxn\",\"authorisationStatus\",\"cardAcceptorTerminalId\", \"cardAcceptorNameLocation\",\"isExternalAuth\"], axis=1)\n"
   ]
  },
  {
   "cell_type": "code",
   "execution_count": 41,
   "id": "12f7e622-6176-4579-b657-78df93180178",
   "metadata": {},
   "outputs": [
    {
     "data": {
      "text/html": [
       "<div>\n",
       "<style scoped>\n",
       "    .dataframe tbody tr th:only-of-type {\n",
       "        vertical-align: middle;\n",
       "    }\n",
       "\n",
       "    .dataframe tbody tr th {\n",
       "        vertical-align: top;\n",
       "    }\n",
       "\n",
       "    .dataframe thead th {\n",
       "        text-align: right;\n",
       "    }\n",
       "</style>\n",
       "<table border=\"1\" class=\"dataframe\">\n",
       "  <thead>\n",
       "    <tr style=\"text-align: right;\">\n",
       "      <th></th>\n",
       "      <th>transactionAmount</th>\n",
       "      <th>dateTimeTransaction</th>\n",
       "      <th>timeLocalTransaction</th>\n",
       "      <th>dateLocalTransaction</th>\n",
       "      <th>merchantCategoryCode</th>\n",
       "      <th>acquiringInstitutionCode</th>\n",
       "      <th>cardAcceptorId</th>\n",
       "      <th>cardBalance</th>\n",
       "      <th>channel</th>\n",
       "      <th>transactionOrigin</th>\n",
       "      <th>transactionType</th>\n",
       "      <th>entityId</th>\n",
       "      <th>latitude</th>\n",
       "      <th>longitude</th>\n",
       "    </tr>\n",
       "  </thead>\n",
       "  <tbody>\n",
       "    <tr>\n",
       "      <th>0</th>\n",
       "      <td>0.0</td>\n",
       "      <td>2412192200</td>\n",
       "      <td>192200</td>\n",
       "      <td>2412</td>\n",
       "      <td>5969</td>\n",
       "      <td>13992</td>\n",
       "      <td>89050840</td>\n",
       "      <td>0.0</td>\n",
       "      <td>ECOM</td>\n",
       "      <td>ECOM</td>\n",
       "      <td>ECOM</td>\n",
       "      <td>EKCZSH8MA5</td>\n",
       "      <td>28.6448</td>\n",
       "      <td>77.216721</td>\n",
       "    </tr>\n",
       "  </tbody>\n",
       "</table>\n",
       "</div>"
      ],
      "text/plain": [
       "   transactionAmount  dateTimeTransaction  timeLocalTransaction  \\\n",
       "0                0.0           2412192200                192200   \n",
       "\n",
       "   dateLocalTransaction  merchantCategoryCode  acquiringInstitutionCode  \\\n",
       "0                  2412                  5969                     13992   \n",
       "\n",
       "   cardAcceptorId  cardBalance channel transactionOrigin transactionType  \\\n",
       "0        89050840          0.0    ECOM              ECOM            ECOM   \n",
       "\n",
       "     entityId  latitude  longitude  \n",
       "0  EKCZSH8MA5   28.6448  77.216721  "
      ]
     },
     "execution_count": 41,
     "metadata": {},
     "output_type": "execute_result"
    }
   ],
   "source": [
    "new_data.head(5)\n"
   ]
  },
  {
   "cell_type": "code",
   "execution_count": 42,
   "id": "bc7cbf9b-92cb-4bdb-9ed3-5d40888f32aa",
   "metadata": {},
   "outputs": [
    {
     "data": {
      "text/plain": [
       "(1, 14)"
      ]
     },
     "execution_count": 42,
     "metadata": {},
     "output_type": "execute_result"
    }
   ],
   "source": [
    "new_data.shape\n"
   ]
  },
  {
   "cell_type": "code",
   "execution_count": 45,
   "id": "08e83219-b87e-4a24-94f6-72be5ef52aca",
   "metadata": {},
   "outputs": [],
   "source": [
    "import pandas as pd\n",
    "\n",
    "def check_rule_001(transactions_df):\n",
    "    # Selecting relevant columns for the condition\n",
    "    relevant_columns = [\n",
    "        'transactionAmount', 'dateTimeTransaction', 'timeLocalTransaction',\n",
    "        'dateLocalTransaction', 'merchantCategoryCode', 'acquiringInstitutionCode',\n",
    "        'cardAcceptorId', 'cardBalance', 'channel', 'transactionOrigin',\n",
    "        'transactionType', 'entityId', 'latitude', 'longitude'\n",
    "    ]\n",
    "    \n",
    "    # Filter dataframe to include only relevant columns\n",
    "    relevant_transactions = transactions_df[relevant_columns]\n",
    "\n",
    "    # Convert transactionAmount and cardBalance to numeric\n",
    "    relevant_transactions['transactionAmount'] = pd.to_numeric(relevant_transactions['transactionAmount'], errors='coerce')\n",
    "    relevant_transactions['cardBalance'] = pd.to_numeric(relevant_transactions['cardBalance'], errors='coerce')\n",
    "\n",
    "    # Convert dateTimeTransaction to timestamp\n",
    "    relevant_transactions['dateTimeTransaction'] = pd.to_datetime(relevant_transactions['dateTimeTransaction'], errors='coerce')\n",
    "\n",
    "    # Filter transactions within the last 12 hours\n",
    "    twelve_hours_ago = pd.Timestamp.now() - pd.Timedelta(hours=12)\n",
    "    recent_transactions = relevant_transactions[relevant_transactions['dateTimeTransaction'] >= twelve_hours_ago]\n",
    "\n",
    "    # Group by entityId and calculate cumulative transaction amount for each entity\n",
    "    cumulative_amount_per_entity = recent_transactions.groupby('entityId')['transactionAmount'].sum()\n",
    "\n",
    "    # Calculate the maximum card balance for each entity\n",
    "    max_card_balance_per_entity = relevant_transactions.groupby('entityId')['cardBalance'].max()\n",
    "\n",
    "    # Check if the total cumulative amount >= 70% of the card balance and balance >= Rs 3,00,000 for any entity\n",
    "    for entity_id, cumulative_amount in cumulative_amount_per_entity.items():\n",
    "        max_balance = max_card_balance_per_entity.get(entity_id, 0)\n",
    "        if cumulative_amount >= 0.7 * max_balance and max_balance >= 300000:\n",
    "            return True\n",
    "\n",
    "    return False\n",
    "\n"
   ]
  },
  {
   "cell_type": "code",
   "execution_count": 46,
   "id": "da7cf19d-137d-4f99-b267-d04af787126a",
   "metadata": {},
   "outputs": [
    {
     "data": {
      "text/plain": [
       "False"
      ]
     },
     "execution_count": 46,
     "metadata": {},
     "output_type": "execute_result"
    }
   ],
   "source": [
    "check_rule_001(new_data)"
   ]
  },
  {
   "cell_type": "code",
   "execution_count": 48,
   "id": "bcd43101-f678-4d98-9917-1848ee9041f0",
   "metadata": {},
   "outputs": [],
   "source": [
    "import math\n",
    "\n",
    "def calculate_distance(lat1, lon1, lat2, lon2):\n",
    "    \"\"\"\n",
    "    Calculate the great circle distance between two points\n",
    "    on the earth (specified in decimal degrees)\n",
    "    \"\"\"\n",
    "    # Convert latitude and longitude from degrees to radians\n",
    "    lat1, lon1, lat2, lon2 = map(math.radians, [lat1, lon1, lat2, lon2])\n",
    "\n",
    "    # Haversine formula\n",
    "    dlon = lon2 - lon1\n",
    "    dlat = lat2 - lat1\n",
    "    a = math.sin(dlat / 2) ** 2 + math.cos(lat1) * math.cos(lat2) * math.sin(dlon / 2) ** 2\n",
    "    c = 2 * math.atan2(math.sqrt(a), math.sqrt(1 - a))\n",
    "    r = 6371  # Radius of earth in kilometers. Use 3956 for miles.\n",
    "    return r * c\n",
    "\n",
    "# Example usage:\n",
    "# distance = haversine(lat1, lon1, lat2, lon2)\n",
    "\n",
    "def check_rule_002(transactions_df, entity_id):\n",
    "    # Selecting relevant columns for the condition\n",
    "    relevant_columns = [\n",
    "        'transactionAmount', 'dateTimeTransaction', 'timeLocalTransaction',\n",
    "        'dateLocalTransaction', 'merchantCategoryCode', 'acquiringInstitutionCode',\n",
    "        'cardAcceptorId', 'cardBalance', 'channel', 'transactionOrigin',\n",
    "        'transactionType', 'entityId', 'latitude', 'longitude'\n",
    "    ]\n",
    "    \n",
    "    # Filter dataframe to include only transactions for the specified entityId\n",
    "    entity_transactions = transactions_df[transactions_df['entityId'] == entity_id][relevant_columns]\n",
    "\n",
    "    # Convert transactionAmount and cardBalance to numeric\n",
    "    entity_transactions['transactionAmount'] = pd.to_numeric(entity_transactions['transactionAmount'], errors='coerce')\n",
    "    entity_transactions['cardBalance'] = pd.to_numeric(entity_transactions['cardBalance'], errors='coerce')\n",
    "\n",
    "    # Convert dateTimeTransaction to timestamp\n",
    "    entity_transactions['dateTimeTransaction'] = pd.to_datetime(entity_transactions['dateTimeTransaction'], errors='coerce')\n",
    "\n",
    "    # Filter transactions within the last 12 hours\n",
    "    twelve_hours_ago = pd.Timestamp.now() - pd.Timedelta(hours=12)\n",
    "    recent_transactions = entity_transactions[entity_transactions['dateTimeTransaction'] >= twelve_hours_ago]\n",
    "\n",
    "    # Check if total transaction amount within 12 hours is more than Rs 1,00,000\n",
    "    total_transaction_amount = recent_transactions['transactionAmount'].sum()\n",
    "    if total_transaction_amount < 100000:\n",
    "        return False\n",
    "\n",
    "    # Group transactions by location and count unique locations\n",
    "    unique_locations = recent_transactions.groupby(['latitude', 'longitude']).size().reset_index(name='count')\n",
    "\n",
    "    # Check if the user transacts from more than 5 locations with a minimum difference of 200KM between two locations\n",
    "    if len(unique_locations) <= 5:\n",
    "        return False\n",
    "\n",
    "    # Check the distance between each pair of locations\n",
    "    for i in range(len(unique_locations)):\n",
    "        for j in range(i + 1, len(unique_locations)):\n",
    "            lat1, lon1 = unique_locations.iloc[i]['latitude'], unique_locations.iloc[i]['longitude']\n",
    "            lat2, lon2 = unique_locations.iloc[j]['latitude'], unique_locations.iloc[j]['longitude']\n",
    "            distance = calculate_distance(lat1, lon1, lat2, lon2)\n",
    "            if distance < 200:\n",
    "                return False\n",
    "\n",
    "    return True\n",
    "\n",
    "\n"
   ]
  },
  {
   "cell_type": "code",
   "execution_count": 50,
   "id": "bcc69410-6f49-4106-b2ab-3283a324db86",
   "metadata": {},
   "outputs": [
    {
     "data": {
      "text/plain": [
       "False"
      ]
     },
     "execution_count": 50,
     "metadata": {},
     "output_type": "execute_result"
    }
   ],
   "source": [
    "check_rule_002(new_data,new_data['entityId'])"
   ]
  },
  {
   "cell_type": "code",
   "execution_count": null,
   "id": "e294e8e5-f17c-40fd-8218-252796517023",
   "metadata": {},
   "outputs": [],
   "source": []
  }
 ],
 "metadata": {
  "kernelspec": {
   "display_name": "Python 3 (ipykernel)",
   "language": "python",
   "name": "python3"
  },
  "language_info": {
   "codemirror_mode": {
    "name": "ipython",
    "version": 3
   },
   "file_extension": ".py",
   "mimetype": "text/x-python",
   "name": "python",
   "nbconvert_exporter": "python",
   "pygments_lexer": "ipython3",
   "version": "3.11.7"
  }
 },
 "nbformat": 4,
 "nbformat_minor": 5
}
